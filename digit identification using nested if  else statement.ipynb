{
 "cells": [
  {
   "cell_type": "code",
   "execution_count": 4,
   "id": "69645b3f",
   "metadata": {},
   "outputs": [
    {
     "name": "stdout",
     "output_type": "stream",
     "text": [
      "enter the number:77\n"
     ]
    }
   ],
   "source": [
    "a=float(input(\"enter the number:\"))"
   ]
  },
  {
   "cell_type": "code",
   "execution_count": 5,
   "id": "a1195ac9",
   "metadata": {},
   "outputs": [
    {
     "name": "stdout",
     "output_type": "stream",
     "text": [
      "It is a number\n"
     ]
    }
   ],
   "source": [
    "if(a==0):\n",
    "    print(\"Zero\")\n",
    "else:\n",
    "    if(a==1):\n",
    "        print(\"One\")\n",
    "    else:\n",
    "        if(a==2):\n",
    "            print(\"Two\")\n",
    "        else:\n",
    "            if(a==3):\n",
    "                print(\"Three\")\n",
    "            else:\n",
    "                if(a==4):\n",
    "                    print(\"Four\")\n",
    "                else:\n",
    "                    if(a==5):\n",
    "                        print(\"five\")\n",
    "                    else:\n",
    "                        if(a==6):\n",
    "                            print(\"six\")\n",
    "                        else:\n",
    "                            if(a==7):\n",
    "                                print(\"seven\")\n",
    "                            else:\n",
    "                                if(a==8):\n",
    "                                    print(\"eight\")\n",
    "                                else:\n",
    "                                    if(a==9):\n",
    "                                        print(\"nine\")\n",
    "                                    else:\n",
    "                                        if(a>=10):\n",
    "                                            print(\"It is a number\")\n",
    "                            "
   ]
  },
  {
   "cell_type": "code",
   "execution_count": null,
   "id": "5996f16d",
   "metadata": {},
   "outputs": [],
   "source": []
  }
 ],
 "metadata": {
  "kernelspec": {
   "display_name": "Python 3 (ipykernel)",
   "language": "python",
   "name": "python3"
  },
  "language_info": {
   "codemirror_mode": {
    "name": "ipython",
    "version": 3
   },
   "file_extension": ".py",
   "mimetype": "text/x-python",
   "name": "python",
   "nbconvert_exporter": "python",
   "pygments_lexer": "ipython3",
   "version": "3.10.9"
  }
 },
 "nbformat": 4,
 "nbformat_minor": 5
}
